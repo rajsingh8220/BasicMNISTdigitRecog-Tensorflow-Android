{
 "cells": [
  {
   "cell_type": "code",
   "execution_count": 4,
   "metadata": {
    "scrolled": true
   },
   "outputs": [
    {
     "name": "stdout",
     "output_type": "stream",
     "text": [
      "Successfully downloaded train-images-idx3-ubyte.gz 9912422 bytes.\n",
      "Extracting MNIST_data\\train-images-idx3-ubyte.gz\n",
      "Successfully downloaded train-labels-idx1-ubyte.gz 28881 bytes.\n",
      "Extracting MNIST_data\\train-labels-idx1-ubyte.gz\n",
      "Successfully downloaded t10k-images-idx3-ubyte.gz 1648877 bytes.\n",
      "Extracting MNIST_data\\t10k-images-idx3-ubyte.gz\n",
      "Successfully downloaded t10k-labels-idx1-ubyte.gz 4542 bytes.\n",
      "Extracting MNIST_data\\t10k-labels-idx1-ubyte.gz\n",
      "0.87\n",
      "[[-0.2917421  -2.3547919  -0.61536527  0.112896   -0.2517305  -0.6600764\n",
      "  -1.9688445   4.894759   -0.41793722  1.5528336 ]]\n"
     ]
    }
   ],
   "source": [
    "import tensorflow as tf\n",
    "from tensorflow.examples.tutorials.mnist import input_data\n",
    "\n",
    "# Contains all of the images and labels (train and test) in the MNIST_data data set\n",
    "mnist_data = input_data.read_data_sets('MNIST_data', one_hot=True)\n",
    "\n",
    "\n",
    "# y = Wx + b\n",
    "# Input to the graph, takes in any number of images (784 element pixel arrays)\n",
    "x_input = tf.placeholder(dtype=tf.float32, shape=[None, 784], name='x_input') # shape =  [None, 784] any number of image(None) with 784 value\n",
    "# Weights to be multiplied by input\n",
    "W = tf.Variable(initial_value=tf.zeros(shape=[784, 10]), name='W')\n",
    "# Biases to be added to weights * inputs\n",
    "b = tf.Variable(initial_value=tf.zeros(shape=[10]), name='b') # output from the above W would be 10 elements (Lables)\n",
    "# Actual model prediction based on input and current values of W and b\n",
    "y_actual = tf.add(x=tf.matmul(a=x_input, b=W, name='matmul'), y=b, name='y_actual')\n",
    "# Input to enter correct answer for comparison during training\n",
    "y_expected = tf.placeholder(dtype=tf.float32, shape=[None, 10], name='y_expected')\n",
    "\n",
    "# Cross entropy loss function because output is a list of possibilities (% certainty of the correct answer)\n",
    "cross_entropy_loss = tf.reduce_mean(\n",
    "    input_tensor=tf.nn.softmax_cross_entropy_with_logits(labels=y_expected, logits=y_actual),\n",
    "    name='cross_entropy_loss')\n",
    "# Classic gradient descent optimizer aims to minimize the difference between expected and actual values (loss)\n",
    "optimizer = tf.train.GradientDescentOptimizer(learning_rate=0.01, name='optimizer')\n",
    "train_step = optimizer.minimize(loss=cross_entropy_loss, name='train_step')\n",
    "\n",
    "saver = tf.train.Saver()\n",
    "\n",
    "# Create the session to run the nodes\n",
    "session = tf.InteractiveSession()\n",
    "session.run(tf.global_variables_initializer())\n",
    "\n",
    "tf.train.write_graph(graph_or_graph_def=session.graph_def,\n",
    "                     logdir='.',\n",
    "                     name='mnist_model.pbtxt',\n",
    "                     as_text=False)\n",
    "\n",
    "# Train the model by fetching batches of 100 images and labels at a time and running train_step\n",
    "# Run through the batches 1000 times (epochs)\n",
    "for _ in range(1000):\n",
    "    batch = mnist_data.train.next_batch(100)\n",
    "    train_step.run(feed_dict={x_input: batch[0], y_expected: batch[1]})\n",
    "\n",
    "saver.save(sess=session,\n",
    "           save_path='mnist_model.ckpt')\n",
    "\n",
    "# Measure accuracy by comparing the predicted values to the correct values and calculating how many of them match\n",
    "correct_prediction = tf.equal(x=tf.argmax(y_actual, 1), y=tf.argmax(y_expected, 1))\n",
    "accuracy = tf.reduce_mean(tf.cast(x=correct_prediction, dtype=tf.float32))\n",
    "print(accuracy.eval(feed_dict={x_input: mnist_data.test.images, y_expected: mnist_data.test.labels}))\n",
    "\n",
    "# Test a prediction on a single image\n",
    "print(session.run(fetches=y_actual, feed_dict={x_input: [mnist_data.test.images[0]]}))\n"
   ]
  },
  {
   "cell_type": "markdown",
   "metadata": {},
   "source": [
    "### Freeze Graph"
   ]
  },
  {
   "cell_type": "code",
   "execution_count": 2,
   "metadata": {},
   "outputs": [
    {
     "name": "stdout",
     "output_type": "stream",
     "text": [
      "WARNING:tensorflow:From C:\\ProgramData\\Anaconda3\\lib\\site-packages\\tensorflow\\python\\tools\\freeze_graph.py:249: FastGFile.__init__ (from tensorflow.python.platform.gfile) is deprecated and will be removed in a future version.\n",
      "Instructions for updating:\n",
      "Use tf.gfile.GFile.\n",
      "WARNING:tensorflow:From C:\\ProgramData\\Anaconda3\\lib\\site-packages\\tensorflow\\python\\tools\\freeze_graph.py:127: checkpoint_exists (from tensorflow.python.training.checkpoint_management) is deprecated and will be removed in a future version.\n",
      "Instructions for updating:\n",
      "Use standard file APIs to check for files with this prefix.\n",
      "INFO:tensorflow:Restoring parameters from mnist_model.ckpt\n",
      "WARNING:tensorflow:From C:\\ProgramData\\Anaconda3\\lib\\site-packages\\tensorflow\\python\\tools\\freeze_graph.py:232: convert_variables_to_constants (from tensorflow.python.framework.graph_util_impl) is deprecated and will be removed in a future version.\n",
      "Instructions for updating:\n",
      "Use tf.compat.v1.graph_util.convert_variables_to_constants\n",
      "WARNING:tensorflow:From C:\\ProgramData\\Anaconda3\\lib\\site-packages\\tensorflow\\python\\framework\\graph_util_impl.py:245: extract_sub_graph (from tensorflow.python.framework.graph_util_impl) is deprecated and will be removed in a future version.\n",
      "Instructions for updating:\n",
      "Use tf.compat.v1.graph_util.extract_sub_graph\n",
      "INFO:tensorflow:Froze 2 variables.\n",
      "INFO:tensorflow:Converted 2 variables to const ops.\n",
      "WARNING:tensorflow:From C:\\ProgramData\\Anaconda3\\lib\\site-packages\\tensorflow\\python\\tools\\optimize_for_inference_lib.py:113: remove_training_nodes (from tensorflow.python.framework.graph_util_impl) is deprecated and will be removed in a future version.\n",
      "Instructions for updating:\n",
      "Use tf.compat.v1.graph_util.remove_training_nodes\n"
     ]
    }
   ],
   "source": [
    "from tensorflow.python.tools import freeze_graph, optimize_for_inference_lib\n",
    "\n",
    "freeze_graph.freeze_graph(input_graph='mnist_model.pbtxt',\n",
    "                          input_saver='',\n",
    "                          input_binary=True,\n",
    "                          input_checkpoint='mnist_model.ckpt',\n",
    "                          output_node_names='y_actual',\n",
    "                          restore_op_name='save/restore_all',\n",
    "                          filename_tensor_name='save/Const:0',\n",
    "                          output_graph='frozen_mnist_model.pb',\n",
    "                          clear_devices=True,\n",
    "                          initializer_nodes='')\n",
    "\n",
    "input_graph_def = tf.GraphDef()\n",
    "with tf.gfile.Open('frozen_mnist_model.pb', 'rb') as f:\n",
    "    data = f.read()\n",
    "    input_graph_def.ParseFromString(data)\n",
    "\n",
    "output_graph_def = optimize_for_inference_lib.optimize_for_inference(input_graph_def=input_graph_def,\n",
    "                                                                     input_node_names=['x_input'],\n",
    "                                                                     output_node_names=['y_actual'],\n",
    "                                                                     placeholder_type_enum=tf.float32.as_datatype_enum)\n",
    "\n",
    "f = tf.gfile.FastGFile(name='optimized_frozen_mnist_model.pb',\n",
    "                       mode='w')\n",
    "f.write(file_content=output_graph_def.SerializeToString())\n"
   ]
  },
  {
   "cell_type": "code",
   "execution_count": null,
   "metadata": {},
   "outputs": [],
   "source": []
  }
 ],
 "metadata": {
  "kernelspec": {
   "display_name": "Python 3",
   "language": "python",
   "name": "python3"
  },
  "language_info": {
   "codemirror_mode": {
    "name": "ipython",
    "version": 3
   },
   "file_extension": ".py",
   "mimetype": "text/x-python",
   "name": "python",
   "nbconvert_exporter": "python",
   "pygments_lexer": "ipython3",
   "version": "3.7.1"
  }
 },
 "nbformat": 4,
 "nbformat_minor": 2
}
